{
 "cells": [
  {
   "cell_type": "code",
   "execution_count": 2,
   "metadata": {},
   "outputs": [
    {
     "name": "stdout",
     "output_type": "stream",
     "text": [
      "Linecount is 1996\n",
      "Blankcount is 238\n",
      "204610\n",
      "70374\n"
     ]
    }
   ],
   "source": [
    "# Advent of code 2022 Day 1\n",
    "# Calorie Counting - Reindeer food\n",
    "\n",
    "# Problem 2, forgot to save problem 1, but mostly similar\n",
    "max = 0\n",
    "with open('day1-input.txt') as fp:\n",
    "  lines = fp.readlines()\n",
    "\n",
    "  total = 0\n",
    "  line_count = 0\n",
    "  blank_count = 0\n",
    "  sums = []\n",
    "\n",
    "  for line in lines:\n",
    "    try:\n",
    "      total += int(line)\n",
    "      line_count += 1\n",
    "    except ValueError:\n",
    "      sums.append(total)\n",
    "      blank_count += 1\n",
    "      if total > max:\n",
    "        max = total\n",
    "      total = 0\n",
    "\n",
    "print(f'Line count is {line_count}')\n",
    "print(f'Blank count is {blank_count}')\n",
    "print(sum(sorted(sums)[-3:]))\n",
    "print(max)"
   ]
  },
  {
   "cell_type": "code",
   "execution_count": 3,
   "metadata": {},
   "outputs": [
    {
     "name": "stdout",
     "output_type": "stream",
     "text": [
      "12156\n"
     ]
    }
   ],
   "source": [
    "#Advent of code 2022 Day 2\n",
    "# Rock paper scissors\n",
    "\n",
    "# Problem 1\n",
    "# Only 9 possible outcomes, only need to lookup value based on line read and sum\n",
    "possible_scores = {\n",
    "  'A X': 1+3, 'A Y': 2+6, 'A Z': 3+0,\n",
    "  'B X': 1+0, 'B Y': 2+3, 'B Z': 3+6,\n",
    "  'C X': 1+6, 'C Y': 2+0, 'C Z': 3+3,\n",
    "}\n",
    "\n",
    "with open('day2-input.txt') as fp:\n",
    "  lines = fp.readlines()\n",
    "\n",
    "  total_score = 0\n",
    "  for line in lines:\n",
    "    total_score += possible_scores[line.strip()]\n",
    "\n",
    "print (total_score)\n"
   ]
  },
  {
   "cell_type": "code",
   "execution_count": 4,
   "metadata": {},
   "outputs": [
    {
     "name": "stdout",
     "output_type": "stream",
     "text": [
      "10835\n"
     ]
    }
   ],
   "source": [
    "# Problem 2\n",
    "# Same 9 outcomes, but different scoring\n",
    "possible_scores = {\n",
    "  'A X': 3+0, 'A Y': 1+3, 'A Z': 2+6,\n",
    "  'B X': 1+0, 'B Y': 2+3, 'B Z': 3+6,\n",
    "  'C X': 2+0, 'C Y': 3+3, 'C Z': 1+6,\n",
    "}\n",
    "\n",
    "with open('day2-input.txt') as fp:\n",
    "  lines = fp.readlines()\n",
    "\n",
    "  total_score = 0\n",
    "  for line in lines:\n",
    "    total_score += possible_scores[line.strip()]  \n",
    "\n",
    "  print(total_score)"
   ]
  },
  {
   "cell_type": "code",
   "execution_count": 5,
   "metadata": {},
   "outputs": [
    {
     "name": "stdout",
     "output_type": "stream",
     "text": [
      "7826\n",
      "2577\n"
     ]
    }
   ],
   "source": [
    "# Advent of code 2022 Day 3\n",
    "# Rucksack reorganization\n",
    "\n",
    "# Start string with a throwaway character so lowercase a is index 1\n",
    "item_priorities = list(' abcdefghijklmnopqrstuvwxyzABCDEFGHIJKLMNOPQRSTUVWXYZ')\n",
    "\n",
    "sum_priorities = 0\n",
    "sum_group_priorities = 0\n",
    "group_line_counter = 0\n",
    "\n",
    "with open('day3-input.txt') as fp:\n",
    "  lines = fp.readlines()\n",
    "\n",
    "  group_sack = [0,1,2]\n",
    "  for line in lines:\n",
    "    # Problem 1\n",
    "    # Find item in both rucksack compartments\n",
    "    first_compartment, second_compartment = line[:len(line)//2], line[len(line)//2:].strip()\n",
    "    first_compartment = set(first_compartment)\n",
    "    second_compartment = set(second_compartment)\n",
    "    for item in first_compartment:\n",
    "      if item in second_compartment:\n",
    "        sum_priorities += item_priorities.index(item)\n",
    "\n",
    "    # Problem 2\n",
    "    # find group symbol, in 3 lines, and sum priorities\n",
    "    group_sack[group_line_counter] = set(line.strip())\n",
    "    group_line_counter += 1\n",
    "    if group_line_counter % 3 == 0:\n",
    "      group_line_counter = 0\n",
    "      for item in group_sack[0]:\n",
    "        if item in group_sack[1] and item in group_sack[2]:\n",
    "          sum_group_priorities += item_priorities.index(item)\n",
    "    \n",
    "\n",
    "print(sum_priorities)\n",
    "print(sum_group_priorities)"
   ]
  },
  {
   "cell_type": "code",
   "execution_count": 15,
   "metadata": {},
   "outputs": [
    {
     "name": "stdout",
     "output_type": "stream",
     "text": [
      "459\n"
     ]
    }
   ],
   "source": [
    "# Advent of code 2022 Day 4\n",
    "# Camp Cleanup\n",
    "\n",
    "# Problem 1\n",
    "# Number of complete subsets\n",
    "subset_counter = 0\n",
    "with open('day4-input.txt') as fp:\n",
    "  lines = fp.readlines()\n",
    "\n",
    "  for line in lines:\n",
    "    elf_0, elf_1 = line.strip().split(',')\n",
    "    elf_0 = [ int(x) for x in elf_0.split('-')]\n",
    "    elf_1 = [ int(x) for x in elf_1.split('-')]\n",
    "    if (elf_0[0] <= elf_1[0]) and (elf_0[1] >= elf_1[1]):\n",
    "      subset_counter += 1\n",
    "    elif (elf_1[0] <= elf_0[0]) and (elf_1[1] >= elf_0[1]):\n",
    "      subset_counter += 1\n",
    "\n",
    "print(subset_counter)"
   ]
  },
  {
   "cell_type": "code",
   "execution_count": 17,
   "metadata": {},
   "outputs": [
    {
     "name": "stdout",
     "output_type": "stream",
     "text": [
      "779\n"
     ]
    }
   ],
   "source": [
    "# Problem 2\n",
    "# number of partial overlap (# intersecting elements > 0)\n",
    "\n",
    "partial_overlaps = 0\n",
    "with open('day4-input.txt') as fp:\n",
    "  lines = fp.readlines()\n",
    "  \n",
    "  for line in lines:\n",
    "    elf_0, elf_1 = line.strip().split(',')\n",
    "    elf_0 = [ int(x) for x in elf_0.split('-')]\n",
    "    elf_0 = set(range(elf_0[0], elf_0[1]+1))\n",
    "    elf_1 = [ int(x) for x in elf_1.split('-')]\n",
    "    elf_1 = set(range(elf_1[0], elf_1[1]+1))\n",
    "    if len(elf_0.intersection(elf_1)) > 0:\n",
    "      partial_overlaps += 1\n",
    "\n",
    "print(partial_overlaps)"
   ]
  }
 ],
 "metadata": {
  "kernelspec": {
   "display_name": "Python 3.11.0 ('.venv': venv)",
   "language": "python",
   "name": "python3"
  },
  "language_info": {
   "codemirror_mode": {
    "name": "ipython",
    "version": 3
   },
   "file_extension": ".py",
   "mimetype": "text/x-python",
   "name": "python",
   "nbconvert_exporter": "python",
   "pygments_lexer": "ipython3",
   "version": "3.11.0"
  },
  "orig_nbformat": 4,
  "vscode": {
   "interpreter": {
    "hash": "b961bdd529304f2f07c13fadbd1bf3bd76da5adc762520df83ad3f9568c1bc57"
   }
  }
 },
 "nbformat": 4,
 "nbformat_minor": 2
}
